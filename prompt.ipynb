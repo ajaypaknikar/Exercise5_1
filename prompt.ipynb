{
 "cells": [
  {
   "cell_type": "markdown",
   "metadata": {},
   "source": [
    "### Will a Customer Accept the Coupon?\n",
    "\n",
    "**Context**\n",
    "\n",
    "Imagine driving through town and a coupon is delivered to your cell phone for a restaraunt near where you are driving. Would you accept that coupon and take a short detour to the restaraunt? Would you accept the coupon but use it on a sunbsequent trip? Would you ignore the coupon entirely? What if the coupon was for a bar instead of a restaraunt? What about a coffee house? Would you accept a bar coupon with a minor passenger in the car? What about if it was just you and your partner in the car? Would weather impact the rate of acceptance? What about the time of day?\n",
    "\n",
    "Obviously, proximity to the business is a factor on whether the coupon is delivered to the driver or not, but what are the factors that determine whether a driver accepts the coupon once it is delivered to them? How would you determine whether a driver is likely to accept a coupon?\n",
    "\n",
    "**Overview**\n",
    "\n",
    "The goal of this project is to use what you know about visualizations and probability distributions to distinguish between customers who accepted a driving coupon versus those that did not.\n",
    "\n",
    "**Data**\n",
    "\n",
    "This data comes to us from the UCI Machine Learning repository and was collected via a survey on Amazon Mechanical Turk. The survey describes different driving scenarios including the destination, current time, weather, passenger, etc., and then ask the person whether he will accept the coupon if he is the driver. Answers that the user will drive there ‘right away’ or ‘later before the coupon expires’ are labeled as ‘Y = 1’ and answers ‘no, I do not want the coupon’ are labeled as ‘Y = 0’.  There are five different types of coupons -- less expensive restaurants (under \\\\$20), coffee houses, carry out & take away, bar, and more expensive restaurants (\\\\$20 - \\\\$50). "
   ]
  },
  {
   "cell_type": "markdown",
   "metadata": {},
   "source": [
    "**Deliverables**\n",
    "\n",
    "Your final product should be a brief report that highlights the differences between customers who did and did not accept the coupons.  To explore the data you will utilize your knowledge of plotting, statistical summaries, and visualization using Python. You will publish your findings in a public facing github repository as your first portfolio piece. \n",
    "\n",
    "\n",
    "\n"
   ]
  },
  {
   "cell_type": "markdown",
   "metadata": {},
   "source": [
    "### Data Description\n",
    "\n",
    "The attributes of this data set include:\n",
    "1. User attributes\n",
    "    -  Gender: male, female\n",
    "    -  Age: below 21, 21 to 25, 26 to 30, etc.\n",
    "    -  Marital Status: single, married partner, unmarried partner, or widowed\n",
    "    -  Number of children: 0, 1, or more than 1\n",
    "    -  Education: high school, bachelors degree, associates degree, or graduate degree\n",
    "    -  Occupation: architecture & engineering, business & financial, etc.\n",
    "    -  Annual income: less than \\\\$12500, \\\\$12500 - \\\\$24999, \\\\$25000 - \\\\$37499, etc.\n",
    "    -  Number of times that he/she goes to a bar: 0, less than 1, 1 to 3, 4 to 8 or greater than 8\n",
    "    -  Number of times that he/she buys takeaway food: 0, less than 1, 1 to 3, 4 to 8 or greater\n",
    "    than 8\n",
    "    -  Number of times that he/she goes to a coffee house: 0, less than 1, 1 to 3, 4 to 8 or\n",
    "    greater than 8\n",
    "    -  Number of times that he/she eats at a restaurant with average expense less than \\\\$20 per\n",
    "    person: 0, less than 1, 1 to 3, 4 to 8 or greater than 8\n",
    "    -  Number of times that he/she goes to a bar: 0, less than 1, 1 to 3, 4 to 8 or greater than 8\n",
    "    \n",
    "\n",
    "2. Contextual attributes\n",
    "    - Driving destination: home, work, or no urgent destination\n",
    "    - Location of user, coupon and destination: we provide a map to show the geographical\n",
    "    location of the user, destination, and the venue, and we mark the distance between each\n",
    "    two places with time of driving. The user can see whether the venue is in the same\n",
    "    direction as the destination.\n",
    "    - Weather: sunny, rainy, or snowy\n",
    "    - Temperature: 30F, 55F, or 80F\n",
    "    - Time: 10AM, 2PM, or 6PM\n",
    "    - Passenger: alone, partner, kid(s), or friend(s)\n",
    "\n",
    "\n",
    "3. Coupon attributes\n",
    "    - time before it expires: 2 hours or one day"
   ]
  },
  {
   "cell_type": "code",
   "execution_count": 1,
   "metadata": {},
   "outputs": [],
   "source": [
    "import matplotlib.pyplot as plt\n",
    "import seaborn as sns\n",
    "import pandas as pd\n",
    "import numpy as np"
   ]
  },
  {
   "cell_type": "code",
   "execution_count": 2,
   "metadata": {},
   "outputs": [],
   "source": [
    "data = pd.read_csv('data/coupons.csv')"
   ]
  },
  {
   "cell_type": "markdown",
   "metadata": {},
   "source": [
    "### Problems\n",
    "\n",
    "Use the prompts below to get started with your data analysis.  \n",
    "\n",
    "1. Read in the `coupons.csv` file.\n",
    "\n",
    "\n"
   ]
  },
  {
   "cell_type": "code",
   "execution_count": 3,
   "metadata": {},
   "outputs": [
    {
     "data": {
      "text/html": [
       "<div>\n",
       "<style scoped>\n",
       "    .dataframe tbody tr th:only-of-type {\n",
       "        vertical-align: middle;\n",
       "    }\n",
       "\n",
       "    .dataframe tbody tr th {\n",
       "        vertical-align: top;\n",
       "    }\n",
       "\n",
       "    .dataframe thead th {\n",
       "        text-align: right;\n",
       "    }\n",
       "</style>\n",
       "<table border=\"1\" class=\"dataframe\">\n",
       "  <thead>\n",
       "    <tr style=\"text-align: right;\">\n",
       "      <th></th>\n",
       "      <th>destination</th>\n",
       "      <th>passanger</th>\n",
       "      <th>weather</th>\n",
       "      <th>temperature</th>\n",
       "      <th>time</th>\n",
       "      <th>coupon</th>\n",
       "      <th>expiration</th>\n",
       "      <th>gender</th>\n",
       "      <th>age</th>\n",
       "      <th>maritalStatus</th>\n",
       "      <th>...</th>\n",
       "      <th>CoffeeHouse</th>\n",
       "      <th>CarryAway</th>\n",
       "      <th>RestaurantLessThan20</th>\n",
       "      <th>Restaurant20To50</th>\n",
       "      <th>toCoupon_GEQ5min</th>\n",
       "      <th>toCoupon_GEQ15min</th>\n",
       "      <th>toCoupon_GEQ25min</th>\n",
       "      <th>direction_same</th>\n",
       "      <th>direction_opp</th>\n",
       "      <th>Y</th>\n",
       "    </tr>\n",
       "  </thead>\n",
       "  <tbody>\n",
       "    <tr>\n",
       "      <th>0</th>\n",
       "      <td>No Urgent Place</td>\n",
       "      <td>Alone</td>\n",
       "      <td>Sunny</td>\n",
       "      <td>55</td>\n",
       "      <td>2PM</td>\n",
       "      <td>Restaurant(&lt;20)</td>\n",
       "      <td>1d</td>\n",
       "      <td>Female</td>\n",
       "      <td>21</td>\n",
       "      <td>Unmarried partner</td>\n",
       "      <td>...</td>\n",
       "      <td>never</td>\n",
       "      <td>NaN</td>\n",
       "      <td>4~8</td>\n",
       "      <td>1~3</td>\n",
       "      <td>1</td>\n",
       "      <td>0</td>\n",
       "      <td>0</td>\n",
       "      <td>0</td>\n",
       "      <td>1</td>\n",
       "      <td>1</td>\n",
       "    </tr>\n",
       "    <tr>\n",
       "      <th>1</th>\n",
       "      <td>No Urgent Place</td>\n",
       "      <td>Friend(s)</td>\n",
       "      <td>Sunny</td>\n",
       "      <td>80</td>\n",
       "      <td>10AM</td>\n",
       "      <td>Coffee House</td>\n",
       "      <td>2h</td>\n",
       "      <td>Female</td>\n",
       "      <td>21</td>\n",
       "      <td>Unmarried partner</td>\n",
       "      <td>...</td>\n",
       "      <td>never</td>\n",
       "      <td>NaN</td>\n",
       "      <td>4~8</td>\n",
       "      <td>1~3</td>\n",
       "      <td>1</td>\n",
       "      <td>0</td>\n",
       "      <td>0</td>\n",
       "      <td>0</td>\n",
       "      <td>1</td>\n",
       "      <td>0</td>\n",
       "    </tr>\n",
       "    <tr>\n",
       "      <th>2</th>\n",
       "      <td>No Urgent Place</td>\n",
       "      <td>Friend(s)</td>\n",
       "      <td>Sunny</td>\n",
       "      <td>80</td>\n",
       "      <td>10AM</td>\n",
       "      <td>Carry out &amp; Take away</td>\n",
       "      <td>2h</td>\n",
       "      <td>Female</td>\n",
       "      <td>21</td>\n",
       "      <td>Unmarried partner</td>\n",
       "      <td>...</td>\n",
       "      <td>never</td>\n",
       "      <td>NaN</td>\n",
       "      <td>4~8</td>\n",
       "      <td>1~3</td>\n",
       "      <td>1</td>\n",
       "      <td>1</td>\n",
       "      <td>0</td>\n",
       "      <td>0</td>\n",
       "      <td>1</td>\n",
       "      <td>1</td>\n",
       "    </tr>\n",
       "    <tr>\n",
       "      <th>3</th>\n",
       "      <td>No Urgent Place</td>\n",
       "      <td>Friend(s)</td>\n",
       "      <td>Sunny</td>\n",
       "      <td>80</td>\n",
       "      <td>2PM</td>\n",
       "      <td>Coffee House</td>\n",
       "      <td>2h</td>\n",
       "      <td>Female</td>\n",
       "      <td>21</td>\n",
       "      <td>Unmarried partner</td>\n",
       "      <td>...</td>\n",
       "      <td>never</td>\n",
       "      <td>NaN</td>\n",
       "      <td>4~8</td>\n",
       "      <td>1~3</td>\n",
       "      <td>1</td>\n",
       "      <td>1</td>\n",
       "      <td>0</td>\n",
       "      <td>0</td>\n",
       "      <td>1</td>\n",
       "      <td>0</td>\n",
       "    </tr>\n",
       "    <tr>\n",
       "      <th>4</th>\n",
       "      <td>No Urgent Place</td>\n",
       "      <td>Friend(s)</td>\n",
       "      <td>Sunny</td>\n",
       "      <td>80</td>\n",
       "      <td>2PM</td>\n",
       "      <td>Coffee House</td>\n",
       "      <td>1d</td>\n",
       "      <td>Female</td>\n",
       "      <td>21</td>\n",
       "      <td>Unmarried partner</td>\n",
       "      <td>...</td>\n",
       "      <td>never</td>\n",
       "      <td>NaN</td>\n",
       "      <td>4~8</td>\n",
       "      <td>1~3</td>\n",
       "      <td>1</td>\n",
       "      <td>1</td>\n",
       "      <td>0</td>\n",
       "      <td>0</td>\n",
       "      <td>1</td>\n",
       "      <td>0</td>\n",
       "    </tr>\n",
       "  </tbody>\n",
       "</table>\n",
       "<p>5 rows × 26 columns</p>\n",
       "</div>"
      ],
      "text/plain": [
       "       destination  passanger weather  temperature  time  \\\n",
       "0  No Urgent Place      Alone   Sunny           55   2PM   \n",
       "1  No Urgent Place  Friend(s)   Sunny           80  10AM   \n",
       "2  No Urgent Place  Friend(s)   Sunny           80  10AM   \n",
       "3  No Urgent Place  Friend(s)   Sunny           80   2PM   \n",
       "4  No Urgent Place  Friend(s)   Sunny           80   2PM   \n",
       "\n",
       "                  coupon expiration  gender age      maritalStatus  ...  \\\n",
       "0        Restaurant(<20)         1d  Female  21  Unmarried partner  ...   \n",
       "1           Coffee House         2h  Female  21  Unmarried partner  ...   \n",
       "2  Carry out & Take away         2h  Female  21  Unmarried partner  ...   \n",
       "3           Coffee House         2h  Female  21  Unmarried partner  ...   \n",
       "4           Coffee House         1d  Female  21  Unmarried partner  ...   \n",
       "\n",
       "   CoffeeHouse CarryAway RestaurantLessThan20 Restaurant20To50  \\\n",
       "0        never       NaN                  4~8              1~3   \n",
       "1        never       NaN                  4~8              1~3   \n",
       "2        never       NaN                  4~8              1~3   \n",
       "3        never       NaN                  4~8              1~3   \n",
       "4        never       NaN                  4~8              1~3   \n",
       "\n",
       "  toCoupon_GEQ5min toCoupon_GEQ15min toCoupon_GEQ25min direction_same  \\\n",
       "0                1                 0                 0              0   \n",
       "1                1                 0                 0              0   \n",
       "2                1                 1                 0              0   \n",
       "3                1                 1                 0              0   \n",
       "4                1                 1                 0              0   \n",
       "\n",
       "  direction_opp  Y  \n",
       "0             1  1  \n",
       "1             1  0  \n",
       "2             1  1  \n",
       "3             1  0  \n",
       "4             1  0  \n",
       "\n",
       "[5 rows x 26 columns]"
      ]
     },
     "execution_count": 3,
     "metadata": {},
     "output_type": "execute_result"
    }
   ],
   "source": [
    "data.head()"
   ]
  },
  {
   "cell_type": "markdown",
   "metadata": {},
   "source": [
    "2. Investigate the dataset for missing or problematic data."
   ]
  },
  {
   "cell_type": "code",
   "execution_count": 4,
   "metadata": {},
   "outputs": [
    {
     "name": "stdout",
     "output_type": "stream",
     "text": [
      "<class 'pandas.core.frame.DataFrame'>\n",
      "RangeIndex: 12684 entries, 0 to 12683\n",
      "Data columns (total 26 columns):\n",
      " #   Column                Non-Null Count  Dtype \n",
      "---  ------                --------------  ----- \n",
      " 0   destination           12684 non-null  object\n",
      " 1   passanger             12684 non-null  object\n",
      " 2   weather               12684 non-null  object\n",
      " 3   temperature           12684 non-null  int64 \n",
      " 4   time                  12684 non-null  object\n",
      " 5   coupon                12684 non-null  object\n",
      " 6   expiration            12684 non-null  object\n",
      " 7   gender                12684 non-null  object\n",
      " 8   age                   12684 non-null  object\n",
      " 9   maritalStatus         12684 non-null  object\n",
      " 10  has_children          12684 non-null  int64 \n",
      " 11  education             12684 non-null  object\n",
      " 12  occupation            12684 non-null  object\n",
      " 13  income                12684 non-null  object\n",
      " 14  car                   108 non-null    object\n",
      " 15  Bar                   12577 non-null  object\n",
      " 16  CoffeeHouse           12467 non-null  object\n",
      " 17  CarryAway             12533 non-null  object\n",
      " 18  RestaurantLessThan20  12554 non-null  object\n",
      " 19  Restaurant20To50      12495 non-null  object\n",
      " 20  toCoupon_GEQ5min      12684 non-null  int64 \n",
      " 21  toCoupon_GEQ15min     12684 non-null  int64 \n",
      " 22  toCoupon_GEQ25min     12684 non-null  int64 \n",
      " 23  direction_same        12684 non-null  int64 \n",
      " 24  direction_opp         12684 non-null  int64 \n",
      " 25  Y                     12684 non-null  int64 \n",
      "dtypes: int64(8), object(18)\n",
      "memory usage: 2.5+ MB\n"
     ]
    }
   ],
   "source": [
    "data.info()\n",
    "\n",
    "#Data shows that the 'car' column has only 108 rows with non null values so this needs to be addressed\n",
    "#The following columns have a few null values - Bar, CoffeeHouse,CarryAway,RestuarantLessThan20 and Restaurant20to50\n"
   ]
  },
  {
   "cell_type": "markdown",
   "metadata": {},
   "source": [
    "3. Decide what to do about your missing data -- drop, replace, other..."
   ]
  },
  {
   "cell_type": "code",
   "execution_count": 33,
   "metadata": {},
   "outputs": [],
   "source": [
    "# Fill all null values in 'car' field to 'Car'\n",
    "data['car'].fillna(\"Car\" , inplace = True)\n",
    "\n",
    "#Drop the remaining rows where there are null values for any field to get a clean data set\n",
    "data = data.dropna()"
   ]
  },
  {
   "cell_type": "markdown",
   "metadata": {},
   "source": [
    "4. What proportion of the total observations chose to accept the coupon? \n",
    "\n"
   ]
  },
  {
   "cell_type": "code",
   "execution_count": 6,
   "metadata": {},
   "outputs": [
    {
     "name": "stdout",
     "output_type": "stream",
     "text": [
      "56.93352098683666\n"
     ]
    }
   ],
   "source": [
    "#Identify the count of all rows where 'Y' == 1 (Coupon Accepted) and divide by the total count of rows\n",
    "percent_accepted = (data.loc[data['Y'] == 1]['Y'].count() / (data['Y'].count())) * 100\n",
    "print(percent_accepted)"
   ]
  },
  {
   "cell_type": "markdown",
   "metadata": {},
   "source": [
    "5. Use a bar plot to visualize the `coupon` column."
   ]
  },
  {
   "cell_type": "code",
   "execution_count": 7,
   "metadata": {},
   "outputs": [
    {
     "data": {
      "image/png": "[encoded data removed]",
      "text/plain": [
       "<Figure size 1080x576 with 1 Axes>"
      ]
     },
     "metadata": {
      "needs_background": "light"
     },
     "output_type": "display_data"
    }
   ],
   "source": [
    "# Plotting a bar plot to show the total number of coupon types, both accepted and not accepted\n",
    "#First, group the data by coupon type and acceptance and aggregate the counts of accepted/not accepted\n",
    "testdata = data.groupby(['coupon', 'Y']).agg({'Y': ['count']})\n",
    "\n",
    "#Next, rename the aggregated column to 'count' and reset the index\n",
    "testdata.columns = ['count']\n",
    "testdata = testdata.reset_index()\n",
    "\n",
    "#Use Seaborn plot to visualize the coupon column\n",
    "plt.figure(figsize=(15,8))\n",
    "sns.barplot(data=testdata, x=\"coupon\", y = 'count', hue = 'Y')\n",
    "plt.xlabel(\"Coupon Type\")\n",
    "plt.ylabel(\"Count of Coupon Types\")\n",
    "plt.title(\"Coupon Usage Across Categories\")\n",
    "plt.xticks(rotation=90)\n",
    "plt.savefig('images/couponUsage.png')\n",
    "plt.show()"
   ]
  },
  {
   "cell_type": "markdown",
   "metadata": {},
   "source": [
    "6. Use a histogram to visualize the temperature column."
   ]
  },
  {
   "cell_type": "code",
   "execution_count": 8,
   "metadata": {},
   "outputs": [
    {
     "data": {
      "image/png": "[encoded data removed]",
      "text/plain": [
       "<Figure size 1080x576 with 1 Axes>"
      ]
     },
     "metadata": {
      "needs_background": "light"
     },
     "output_type": "display_data"
    }
   ],
   "source": [
    "#Simple histogram of the data showing coupon\n",
    "plt.figure(figsize=(15,8))\n",
    "sns.histplot(data=data, x=\"temperature\", hue = 'Y', bins=6)\n",
    "plt.title(\"Coupons Across Temperature\")\n",
    "plt.xlabel(\"Temperature\")\n",
    "plt.xlabel(\"Coupon Counts\")\n",
    "plt.savefig('images/temperatureChart.png')\n",
    "plt.show()\n"
   ]
  },
  {
   "cell_type": "code",
   "execution_count": 11,
   "metadata": {},
   "outputs": [
    {
     "data": {
      "image/png": "[encoded data removed]",
      "text/plain": [
       "<Figure size 1080x576 with 1 Axes>"
      ]
     },
     "metadata": {
      "needs_background": "light"
     },
     "output_type": "display_data"
    }
   ],
   "source": [
    "#Query the data for temperature==30F\n",
    "data_30temp = data.query('temperature == 30')\n",
    "plt.figure(figsize=(15,8))\n",
    "sns.histplot(data=data_30temp, x=\"coupon\", bins=6, hue = 'coupon')\n",
    "plt.xticks(rotation=90)\n",
    "plt.title(\"Coupons Usage @Temperature  30\")\n",
    "plt.xlabel(\"Coupon Type\")\n",
    "plt.xlabel(\"Coupon Counts\")\n",
    "plt.savefig('images/couponsat30F.png')\n",
    "plt.show()"
   ]
  },
  {
   "cell_type": "code",
   "execution_count": 10,
   "metadata": {},
   "outputs": [
    {
     "data": {
      "image/png": "[encoded data removed]",
      "text/plain": [
       "<Figure size 1080x576 with 1 Axes>"
      ]
     },
     "metadata": {
      "needs_background": "light"
     },
     "output_type": "display_data"
    }
   ],
   "source": [
    "#Query data for temperature at 55F\n",
    "data_55temp = data.query('temperature == 55')\n",
    "plt.figure(figsize=(15,8))\n",
    "sns.histplot(data=data_55temp, x=\"coupon\", bins=6, hue = 'coupon')\n",
    "plt.title(\"Coupons Usage @Temperature  55\")\n",
    "plt.xlabel(\"Coupon Type\")\n",
    "plt.xlabel(\"Coupon Counts\")\n",
    "plt.xticks(rotation=90)\n",
    "plt.savefig('images/couponsat55F.png')\n",
    "plt.show()"
   ]
  },
  {
   "cell_type": "code",
   "execution_count": 12,
   "metadata": {},
   "outputs": [
    {
     "data": {
      "image/png": "[encoded data removed]",
      "text/plain": [
       "<Figure size 1080x576 with 1 Axes>"
      ]
     },
     "metadata": {
      "needs_background": "light"
     },
     "output_type": "display_data"
    }
   ],
   "source": [
    "#Query data for temperature at 80F\n",
    "data_80temp = data.query('temperature == 80')\n",
    "plt.figure(figsize=(15,8))\n",
    "\n",
    "sns.histplot(data=data_80temp, x=\"coupon\", bins=6, hue = 'coupon')\n",
    "plt.title(\"Coupons Usage @Temperature  80\")\n",
    "plt.xlabel(\"Coupon Type\")\n",
    "plt.xlabel(\"Coupon Counts\")\n",
    "plt.xticks(rotation=90)\n",
    "plt.savefig('images/couponsat80F.png')\n",
    "plt.show()"
   ]
  },
  {
   "cell_type": "code",
   "execution_count": 26,
   "metadata": {},
   "outputs": [
    {
     "name": "stdout",
     "output_type": "stream",
     "text": [
      "Bar Values: ['never' 'less1' '1~3' 'gt8' '4~8']\n",
      "Destination Values: ['No Urgent Place' 'Home' 'Work']\n",
      "Passanger Values: ['Alone' 'Friend(s)' 'Kid(s)' 'Partner']\n",
      "Coupon Values: ['Restaurant(<20)' 'Coffee House' 'Bar' 'Carry out & Take away'\n",
      " 'Restaurant(20-50)']\n",
      "Temperature Values: [55 80 30]\n",
      "toCoupon_GEQ5min Values: [1]\n",
      "toCoupon_GEQ15min Values: [0 1]\n",
      "RestaurantLessThan20 Values: ['4~8' '1~3' 'less1' 'gt8' 'never']\n",
      "Occupation Values: ['Architecture & Engineering' 'Student' 'Education&Training&Library'\n",
      " 'Unemployed' 'Healthcare Support' 'Healthcare Practitioners & Technical'\n",
      " 'Sales & Related' 'Management' 'Arts Design Entertainment Sports & Media'\n",
      " 'Computer & Mathematical' 'Life Physical Social Science'\n",
      " 'Personal Care & Service' 'Office & Administrative Support'\n",
      " 'Construction & Extraction' 'Legal' 'Retired'\n",
      " 'Community & Social Services' 'Installation Maintenance & Repair'\n",
      " 'Transportation & Material Moving' 'Business & Financial'\n",
      " 'Protective Service' 'Food Preparation & Serving Related'\n",
      " 'Production Occupations' 'Building & Grounds Cleaning & Maintenance'\n",
      " 'Farming Fishing & Forestry']\n",
      "Age Values: ['21' '46' '26' '31' '41' '50plus' '36' 'below21']\n",
      "MaritalStatus Values: ['Single' 'Married partner' 'Unmarried partner' 'Divorced' 'Widowed']\n",
      "Income Values: ['$62500 - $74999' '$12500 - $24999' '$75000 - $87499' '$50000 - $62499'\n",
      " '$37500 - $49999' '$25000 - $37499' '$100000 or More' '$87500 - $99999'\n",
      " 'Less than $12500']\n",
      "RestaurantLessThan20 Values: ['4~8' '1~3' 'less1' 'gt8' 'never']\n"
     ]
    }
   ],
   "source": [
    "#Finding unique values for some of the fields.\n",
    "bar_values = data['Bar'].unique()\n",
    "print('Bar Values:', bar_values)\n",
    "\n",
    "destination_values = data['destination'].unique()\n",
    "print('Destination Values:', destination_values)\n",
    "\n",
    "passanger_values = data['passanger'].unique()\n",
    "print('Passanger Values:',passanger_values)\n",
    "\n",
    "coupon_values = data['coupon'].unique()\n",
    "print('Coupon Values:',coupon_values)\n",
    "\n",
    "temp_values = data['temperature'].unique()\n",
    "print('Temperature Values:', temp_values)\n",
    "\n",
    "temp_values = data['toCoupon_GEQ5min'].unique()\n",
    "print('toCoupon_GEQ5min Values:', temp_values)\n",
    "\n",
    "temp_values = data['toCoupon_GEQ15min'].unique()\n",
    "print('toCoupon_GEQ15min Values:', temp_values)\n",
    "\n",
    "temp_values = data['RestaurantLessThan20'].unique()\n",
    "print('RestaurantLessThan20 Values:', temp_values)\n",
    "\n",
    "temp_values = data['occupation'].unique()\n",
    "print('Occupation Values:', temp_values)\n",
    "\n",
    "temp_values = data['age'].unique()\n",
    "print('Age Values:', temp_values)\n",
    "\n",
    "temp_values = data['maritalStatus'].unique()\n",
    "print('MaritalStatus Values:', temp_values)\n",
    "\n",
    "temp_values = data['income'].unique()\n",
    "print('Income Values:', temp_values)\n",
    "\n",
    "temp_values = data['RestaurantLessThan20'].unique()\n",
    "print('RestaurantLessThan20 Values:', temp_values)\n"
   ]
  },
  {
   "cell_type": "markdown",
   "metadata": {},
   "source": [
    "**Investigating the Bar Coupons**\n",
    "\n",
    "Now, we will lead you through an exploration of just the bar related coupons.  \n",
    "\n",
    "1. Create a new `DataFrame` that contains just the bar coupons.\n"
   ]
  },
  {
   "cell_type": "code",
   "execution_count": 14,
   "metadata": {},
   "outputs": [
    {
     "data": {
      "text/html": [
       "<div>\n",
       "<style scoped>\n",
       "    .dataframe tbody tr th:only-of-type {\n",
       "        vertical-align: middle;\n",
       "    }\n",
       "\n",
       "    .dataframe tbody tr th {\n",
       "        vertical-align: top;\n",
       "    }\n",
       "\n",
       "    .dataframe thead th {\n",
       "        text-align: right;\n",
       "    }\n",
       "</style>\n",
       "<table border=\"1\" class=\"dataframe\">\n",
       "  <thead>\n",
       "    <tr style=\"text-align: right;\">\n",
       "      <th></th>\n",
       "      <th>destination</th>\n",
       "      <th>passanger</th>\n",
       "      <th>weather</th>\n",
       "      <th>temperature</th>\n",
       "      <th>time</th>\n",
       "      <th>coupon</th>\n",
       "      <th>expiration</th>\n",
       "      <th>gender</th>\n",
       "      <th>age</th>\n",
       "      <th>maritalStatus</th>\n",
       "      <th>...</th>\n",
       "      <th>CoffeeHouse</th>\n",
       "      <th>CarryAway</th>\n",
       "      <th>RestaurantLessThan20</th>\n",
       "      <th>Restaurant20To50</th>\n",
       "      <th>toCoupon_GEQ5min</th>\n",
       "      <th>toCoupon_GEQ15min</th>\n",
       "      <th>toCoupon_GEQ25min</th>\n",
       "      <th>direction_same</th>\n",
       "      <th>direction_opp</th>\n",
       "      <th>Y</th>\n",
       "    </tr>\n",
       "  </thead>\n",
       "  <tbody>\n",
       "    <tr>\n",
       "      <th>24</th>\n",
       "      <td>No Urgent Place</td>\n",
       "      <td>Friend(s)</td>\n",
       "      <td>Sunny</td>\n",
       "      <td>80</td>\n",
       "      <td>10AM</td>\n",
       "      <td>Bar</td>\n",
       "      <td>1d</td>\n",
       "      <td>Male</td>\n",
       "      <td>21</td>\n",
       "      <td>Single</td>\n",
       "      <td>...</td>\n",
       "      <td>less1</td>\n",
       "      <td>4~8</td>\n",
       "      <td>4~8</td>\n",
       "      <td>less1</td>\n",
       "      <td>1</td>\n",
       "      <td>0</td>\n",
       "      <td>0</td>\n",
       "      <td>0</td>\n",
       "      <td>1</td>\n",
       "      <td>1</td>\n",
       "    </tr>\n",
       "    <tr>\n",
       "      <th>35</th>\n",
       "      <td>Home</td>\n",
       "      <td>Alone</td>\n",
       "      <td>Sunny</td>\n",
       "      <td>55</td>\n",
       "      <td>6PM</td>\n",
       "      <td>Bar</td>\n",
       "      <td>1d</td>\n",
       "      <td>Male</td>\n",
       "      <td>21</td>\n",
       "      <td>Single</td>\n",
       "      <td>...</td>\n",
       "      <td>less1</td>\n",
       "      <td>4~8</td>\n",
       "      <td>4~8</td>\n",
       "      <td>less1</td>\n",
       "      <td>1</td>\n",
       "      <td>0</td>\n",
       "      <td>0</td>\n",
       "      <td>1</td>\n",
       "      <td>0</td>\n",
       "      <td>1</td>\n",
       "    </tr>\n",
       "    <tr>\n",
       "      <th>39</th>\n",
       "      <td>Work</td>\n",
       "      <td>Alone</td>\n",
       "      <td>Sunny</td>\n",
       "      <td>55</td>\n",
       "      <td>7AM</td>\n",
       "      <td>Bar</td>\n",
       "      <td>1d</td>\n",
       "      <td>Male</td>\n",
       "      <td>21</td>\n",
       "      <td>Single</td>\n",
       "      <td>...</td>\n",
       "      <td>less1</td>\n",
       "      <td>4~8</td>\n",
       "      <td>4~8</td>\n",
       "      <td>less1</td>\n",
       "      <td>1</td>\n",
       "      <td>1</td>\n",
       "      <td>1</td>\n",
       "      <td>0</td>\n",
       "      <td>1</td>\n",
       "      <td>1</td>\n",
       "    </tr>\n",
       "    <tr>\n",
       "      <th>46</th>\n",
       "      <td>No Urgent Place</td>\n",
       "      <td>Friend(s)</td>\n",
       "      <td>Sunny</td>\n",
       "      <td>80</td>\n",
       "      <td>10AM</td>\n",
       "      <td>Bar</td>\n",
       "      <td>1d</td>\n",
       "      <td>Male</td>\n",
       "      <td>46</td>\n",
       "      <td>Single</td>\n",
       "      <td>...</td>\n",
       "      <td>4~8</td>\n",
       "      <td>1~3</td>\n",
       "      <td>1~3</td>\n",
       "      <td>never</td>\n",
       "      <td>1</td>\n",
       "      <td>0</td>\n",
       "      <td>0</td>\n",
       "      <td>0</td>\n",
       "      <td>1</td>\n",
       "      <td>0</td>\n",
       "    </tr>\n",
       "    <tr>\n",
       "      <th>57</th>\n",
       "      <td>Home</td>\n",
       "      <td>Alone</td>\n",
       "      <td>Sunny</td>\n",
       "      <td>55</td>\n",
       "      <td>6PM</td>\n",
       "      <td>Bar</td>\n",
       "      <td>1d</td>\n",
       "      <td>Male</td>\n",
       "      <td>46</td>\n",
       "      <td>Single</td>\n",
       "      <td>...</td>\n",
       "      <td>4~8</td>\n",
       "      <td>1~3</td>\n",
       "      <td>1~3</td>\n",
       "      <td>never</td>\n",
       "      <td>1</td>\n",
       "      <td>0</td>\n",
       "      <td>0</td>\n",
       "      <td>1</td>\n",
       "      <td>0</td>\n",
       "      <td>0</td>\n",
       "    </tr>\n",
       "  </tbody>\n",
       "</table>\n",
       "<p>5 rows × 26 columns</p>\n",
       "</div>"
      ],
      "text/plain": [
       "        destination  passanger weather  temperature  time coupon expiration  \\\n",
       "24  No Urgent Place  Friend(s)   Sunny           80  10AM    Bar         1d   \n",
       "35             Home      Alone   Sunny           55   6PM    Bar         1d   \n",
       "39             Work      Alone   Sunny           55   7AM    Bar         1d   \n",
       "46  No Urgent Place  Friend(s)   Sunny           80  10AM    Bar         1d   \n",
       "57             Home      Alone   Sunny           55   6PM    Bar         1d   \n",
       "\n",
       "   gender age maritalStatus  ...  CoffeeHouse CarryAway RestaurantLessThan20  \\\n",
       "24   Male  21        Single  ...        less1       4~8                  4~8   \n",
       "35   Male  21        Single  ...        less1       4~8                  4~8   \n",
       "39   Male  21        Single  ...        less1       4~8                  4~8   \n",
       "46   Male  46        Single  ...          4~8       1~3                  1~3   \n",
       "57   Male  46        Single  ...          4~8       1~3                  1~3   \n",
       "\n",
       "   Restaurant20To50 toCoupon_GEQ5min toCoupon_GEQ15min toCoupon_GEQ25min  \\\n",
       "24            less1                1                 0                 0   \n",
       "35            less1                1                 0                 0   \n",
       "39            less1                1                 1                 1   \n",
       "46            never                1                 0                 0   \n",
       "57            never                1                 0                 0   \n",
       "\n",
       "   direction_same direction_opp  Y  \n",
       "24              0             1  1  \n",
       "35              1             0  1  \n",
       "39              0             1  1  \n",
       "46              0             1  0  \n",
       "57              1             0  0  \n",
       "\n",
       "[5 rows x 26 columns]"
      ]
     },
     "execution_count": 14,
     "metadata": {},
     "output_type": "execute_result"
    }
   ],
   "source": [
    "bardata = data.query(\"coupon =='Bar'\")\n",
    "bardata.head()"
   ]
  },
  {
   "cell_type": "markdown",
   "metadata": {},
   "source": [
    "2. What proportion of bar coupons were accepted?\n"
   ]
  },
  {
   "cell_type": "code",
   "execution_count": 28,
   "metadata": {},
   "outputs": [
    {
     "data": {
      "image/png": "[encoded data removed]",
      "text/plain": [
       "<Figure size 1080x576 with 1 Axes>"
      ]
     },
     "metadata": {
      "needs_background": "light"
     },
     "output_type": "display_data"
    }
   ],
   "source": [
    "#Identify the count of all rows where 'Y' == 1 (Coupon Accepted) and divide by the total count of rows\n",
    "percentbar_accepted = (bardata.loc[bardata['Y'] == 1]['Y'].count() / (bardata['Y'].count())) * 100\n",
    "percentbar_notaccepted = 100-percentbar_accepted\n",
    "\n",
    "#Group the data by Y - Accepted(1)/Not Accepted(0)\n",
    "barplotdata = bardata.groupby(['Y']).agg({'Y': ['count']})\n",
    "barplotdata.columns = ['count']\n",
    "barplotdata = barplotdata.reset_index()\n",
    "\n",
    "#Insert two new colums - accepted % & an accepted column that converts the 0/1 to No/Yes \n",
    "barplotdata.insert(2, \"accepted %\", [percentbar_notaccepted, percentbar_accepted], True)\n",
    "barplotdata.insert(2, \"accepted\", ['No', 'Yes'], True)\n",
    "\n",
    "# Plotting a bar plot to show the coupon accepted distribution for the bar coupons\n",
    "plt.figure(figsize=(15,8))\n",
    "sns.barplot(data=barplotdata, x=\"accepted\", y='accepted %')\n",
    "plt.xlabel(\"Accepted\")\n",
    "plt.ylabel(\"Accepted Rate\")\n",
    "plt.title(\"Coupon Acceptance Distribution for Bar Coupons\")\n",
    "plt.savefig('images/barCouponAcceptance.png')\n",
    "plt.show()\n",
    "\n"
   ]
  },
  {
   "cell_type": "markdown",
   "metadata": {},
   "source": [
    "3. Compare the acceptance rate between those who went to a bar 3 or fewer times a month to those who went more.\n"
   ]
  },
  {
   "cell_type": "code",
   "execution_count": 16,
   "metadata": {},
   "outputs": [
    {
     "data": {
      "image/png": "[encoded data removed]",
      "text/plain": [
       "<Figure size 1080x576 with 1 Axes>"
      ]
     },
     "metadata": {
      "needs_background": "light"
     },
     "output_type": "display_data"
    }
   ],
   "source": [
    "#The DataFrame contains just the bar coupons.\n",
    "barvisitdata = bardata\n",
    "\n",
    "#Replace the values of Bar to '<3' or '>3' based on values in the 'Bar' column\n",
    "barvisitdata.loc[barvisitdata['Bar'] == '1~3', 'Bar'] = '<3'\n",
    "barvisitdata.loc[barvisitdata['Bar'] == 'less1', 'Bar'] = '<3'\n",
    "barvisitdata.loc[barvisitdata['Bar'] == 'never', 'Bar'] = '<3'\n",
    "barvisitdata.loc[barvisitdata['Bar'] == '4~8', 'Bar'] = '>3'\n",
    "barvisitdata.loc[barvisitdata['Bar'] == 'gt8', 'Bar'] = '>3'\n",
    "\n",
    "#Group the data by Bar and Coupon acceptance for coupons only and then reset the index. \n",
    "barvisitdata = barvisitdata.groupby(['Bar', 'Y'])[['coupon']].count()\n",
    "barvisitdata = barvisitdata.reset_index()\n",
    "\n",
    "# Then plot a bar plot to show the acceptance rate between those who went to a bar 3 or fewer times a month \n",
    "# to those who went more\n",
    "plt.figure(figsize=(15,8))\n",
    "sns.barplot(data=barvisitdata, x=\"Bar\", y='coupon', hue = 'Y')\n",
    "plt.xlabel(\"Coupon Counts\")\n",
    "plt.ylabel(\"Accepted Vs Not Accepted\")\n",
    "plt.title(\"Coupon Acceptance Counts for Bar Coupons\")\n",
    "plt.savefig('images/barVisitChart.png')\n",
    "plt.show()\n"
   ]
  },
  {
   "cell_type": "markdown",
   "metadata": {},
   "source": [
    "4. Compare the acceptance rate between drivers who go to a bar more than once a month and are over the age of 25 to the all others.  Is there a difference?\n"
   ]
  },
  {
   "cell_type": "code",
   "execution_count": 17,
   "metadata": {},
   "outputs": [
    {
     "data": {
      "text/html": [
       "<div>\n",
       "<style scoped>\n",
       "    .dataframe tbody tr th:only-of-type {\n",
       "        vertical-align: middle;\n",
       "    }\n",
       "\n",
       "    .dataframe tbody tr th {\n",
       "        vertical-align: top;\n",
       "    }\n",
       "\n",
       "    .dataframe thead th {\n",
       "        text-align: right;\n",
       "    }\n",
       "</style>\n",
       "<table border=\"1\" class=\"dataframe\">\n",
       "  <thead>\n",
       "    <tr style=\"text-align: right;\">\n",
       "      <th></th>\n",
       "      <th>Bar</th>\n",
       "      <th>age</th>\n",
       "      <th>Y</th>\n",
       "      <th>counts</th>\n",
       "    </tr>\n",
       "  </thead>\n",
       "  <tbody>\n",
       "    <tr>\n",
       "      <th>0</th>\n",
       "      <td>&lt;1</td>\n",
       "      <td>below21</td>\n",
       "      <td>0</td>\n",
       "      <td>189</td>\n",
       "    </tr>\n",
       "    <tr>\n",
       "      <th>1</th>\n",
       "      <td>&lt;1</td>\n",
       "      <td>below21</td>\n",
       "      <td>1</td>\n",
       "      <td>120</td>\n",
       "    </tr>\n",
       "    <tr>\n",
       "      <th>2</th>\n",
       "      <td>&lt;1</td>\n",
       "      <td>over25</td>\n",
       "      <td>0</td>\n",
       "      <td>756</td>\n",
       "    </tr>\n",
       "    <tr>\n",
       "      <th>3</th>\n",
       "      <td>&lt;1</td>\n",
       "      <td>over25</td>\n",
       "      <td>1</td>\n",
       "      <td>276</td>\n",
       "    </tr>\n",
       "    <tr>\n",
       "      <th>4</th>\n",
       "      <td>&gt;1</td>\n",
       "      <td>below21</td>\n",
       "      <td>0</td>\n",
       "      <td>55</td>\n",
       "    </tr>\n",
       "    <tr>\n",
       "      <th>5</th>\n",
       "      <td>&gt;1</td>\n",
       "      <td>below21</td>\n",
       "      <td>1</td>\n",
       "      <td>114</td>\n",
       "    </tr>\n",
       "    <tr>\n",
       "      <th>6</th>\n",
       "      <td>&gt;1</td>\n",
       "      <td>over25</td>\n",
       "      <td>0</td>\n",
       "      <td>125</td>\n",
       "    </tr>\n",
       "    <tr>\n",
       "      <th>7</th>\n",
       "      <td>&gt;1</td>\n",
       "      <td>over25</td>\n",
       "      <td>1</td>\n",
       "      <td>278</td>\n",
       "    </tr>\n",
       "  </tbody>\n",
       "</table>\n",
       "</div>"
      ],
      "text/plain": [
       "  Bar      age  Y  counts\n",
       "0  <1  below21  0     189\n",
       "1  <1  below21  1     120\n",
       "2  <1   over25  0     756\n",
       "3  <1   over25  1     276\n",
       "4  >1  below21  0      55\n",
       "5  >1  below21  1     114\n",
       "6  >1   over25  0     125\n",
       "7  >1   over25  1     278"
      ]
     },
     "execution_count": 17,
     "metadata": {},
     "output_type": "execute_result"
    }
   ],
   "source": [
    "newbardata = data.query(\"coupon =='Bar'\")\n",
    "newbardata = newbardata[['Bar','age','Y']]\n",
    "newbardata = newbardata.groupby(['Bar','age','Y'])['Y'].count()\n",
    "newbardata = newbardata.reset_index(name='counts')\n",
    "\n",
    "newbardata.loc[newbardata['age'] == '26', 'age'] = 'over25'\n",
    "newbardata.loc[newbardata['age'] == '31', 'age'] = 'over25'\n",
    "newbardata.loc[newbardata['age'] == '36', 'age'] = 'over25'\n",
    "newbardata.loc[newbardata['age'] == '41', 'age'] = 'over25'\n",
    "newbardata.loc[newbardata['age'] == '46', 'age'] = 'over25'\n",
    "newbardata.loc[newbardata['age'] == '50plus', 'age'] = 'over25'\n",
    "newbardata.loc[newbardata['age'] == '21', 'age'] = 'below21'\n",
    "\n",
    "newbardata.loc[newbardata['Bar'] == '1~3', 'Bar'] = '>1'\n",
    "newbardata.loc[newbardata['Bar'] == 'less1', 'Bar'] = '<1'\n",
    "newbardata.loc[newbardata['Bar'] == 'never', 'Bar'] = '<1'\n",
    "newbardata.loc[newbardata['Bar'] == '4~8', 'Bar'] = '>1'\n",
    "newbardata.loc[newbardata['Bar'] == 'gt8', 'Bar'] = '>1'\n",
    "\n",
    "newbardata = newbardata.groupby(['Bar','age','Y'])['counts'].sum()\n",
    "newbardata = newbardata.reset_index(name='counts')\n",
    "\n",
    "newbardata\n"
   ]
  },
  {
   "cell_type": "code",
   "execution_count": 18,
   "metadata": {},
   "outputs": [],
   "source": [
    "#It looks like the coupon acceptance rate for people who are over 25 and go to the bar more than once is 69% as compared to\n",
    "#only 26% acceptance for the same people who go to the bar less than once. \n",
    "#For people who are below 21, the numbers are similar with 67% acceptance for people who go to the bar more than once as opposed \n",
    "#to 38% acceptance for people who go to the bar less than once. "
   ]
  },
  {
   "cell_type": "markdown",
   "metadata": {},
   "source": [
    "5. Use the same process to compare the acceptance rate between drivers who go to bars more than once a month and had passengers that were not a kid and had occupations other than farming, fishing, or forestry. \n"
   ]
  },
  {
   "cell_type": "code",
   "execution_count": 22,
   "metadata": {},
   "outputs": [
    {
     "data": {
      "text/html": [
       "<div>\n",
       "<style scoped>\n",
       "    .dataframe tbody tr th:only-of-type {\n",
       "        vertical-align: middle;\n",
       "    }\n",
       "\n",
       "    .dataframe tbody tr th {\n",
       "        vertical-align: top;\n",
       "    }\n",
       "\n",
       "    .dataframe thead th {\n",
       "        text-align: right;\n",
       "    }\n",
       "</style>\n",
       "<table border=\"1\" class=\"dataframe\">\n",
       "  <thead>\n",
       "    <tr style=\"text-align: right;\">\n",
       "      <th></th>\n",
       "      <th>coupon</th>\n",
       "      <th>Y</th>\n",
       "      <th>accepted</th>\n",
       "      <th>type</th>\n",
       "      <th>counts</th>\n",
       "    </tr>\n",
       "  </thead>\n",
       "  <tbody>\n",
       "    <tr>\n",
       "      <th>0</th>\n",
       "      <td>Bar</td>\n",
       "      <td>0</td>\n",
       "      <td>No</td>\n",
       "      <td>Not_Farm_Fish_Forestry_kid</td>\n",
       "      <td>968</td>\n",
       "    </tr>\n",
       "    <tr>\n",
       "      <th>1</th>\n",
       "      <td>Bar</td>\n",
       "      <td>1</td>\n",
       "      <td>Yes</td>\n",
       "      <td>Not_Farm_Fish_Forestry_kid</td>\n",
       "      <td>745</td>\n",
       "    </tr>\n",
       "  </tbody>\n",
       "</table>\n",
       "</div>"
      ],
      "text/plain": [
       "  coupon  Y accepted                        type  counts\n",
       "0    Bar  0       No  Not_Farm_Fish_Forestry_kid     968\n",
       "1    Bar  1      Yes  Not_Farm_Fish_Forestry_kid     745"
      ]
     },
     "execution_count": 22,
     "metadata": {},
     "output_type": "execute_result"
    }
   ],
   "source": [
    "#Query for Bar data with occupation other than farming, fishing or Forestry and passanger who is not a kid. \n",
    "da = bardata.query(\"occupation != 'Farming Fishing & Forestry'\")\n",
    "db = da.query(\"passanger != 'Kid(s)'\")\n",
    "\n",
    "#Eliminate all rows where the driver goes to bar less than once a month\n",
    "dc = db.query(\"Bar != 'less1'\" or \"Bar != 'never'\")\n",
    "\n",
    "dd = dc[['coupon','Y']]\n",
    "dd = dd.groupby(['coupon','Y'])['Y'].count().reset_index(name='counts')\n",
    "\n",
    "#Insert two new colums - accepted % & an accepted column that converts the 0/1 to No/Yes \n",
    "dd.insert(2, \"type\", ['Not_Farm_Fish_Forestry_kid', 'Not_Farm_Fish_Forestry_kid'], True)\n",
    "dd.insert(2, \"accepted\", ['No', 'Yes'], True)\n",
    "\n",
    "dd"
   ]
  },
  {
   "cell_type": "markdown",
   "metadata": {},
   "source": [
    "6. Compare the acceptance rates between those drivers who:\n",
    "\n",
    "- go to bars more than once a month, had passengers that were not a kid, and were not widowed *OR*\n",
    "- go to bars more than once a month and are under the age of 30 *OR*\n",
    "- go to cheap restaurants more than 4 times a month and income is less than 50K. \n",
    "\n"
   ]
  },
  {
   "cell_type": "code",
   "execution_count": 24,
   "metadata": {},
   "outputs": [
    {
     "data": {
      "text/html": [
       "<div>\n",
       "<style scoped>\n",
       "    .dataframe tbody tr th:only-of-type {\n",
       "        vertical-align: middle;\n",
       "    }\n",
       "\n",
       "    .dataframe tbody tr th {\n",
       "        vertical-align: top;\n",
       "    }\n",
       "\n",
       "    .dataframe thead th {\n",
       "        text-align: right;\n",
       "    }\n",
       "</style>\n",
       "<table border=\"1\" class=\"dataframe\">\n",
       "  <thead>\n",
       "    <tr style=\"text-align: right;\">\n",
       "      <th></th>\n",
       "      <th>coupon</th>\n",
       "      <th>Y</th>\n",
       "      <th>counts</th>\n",
       "    </tr>\n",
       "  </thead>\n",
       "  <tbody>\n",
       "    <tr>\n",
       "      <th>0</th>\n",
       "      <td>Bar</td>\n",
       "      <td>0</td>\n",
       "      <td>197</td>\n",
       "    </tr>\n",
       "    <tr>\n",
       "      <th>1</th>\n",
       "      <td>Bar</td>\n",
       "      <td>1</td>\n",
       "      <td>200</td>\n",
       "    </tr>\n",
       "  </tbody>\n",
       "</table>\n",
       "</div>"
      ],
      "text/plain": [
       "  coupon  Y  counts\n",
       "0    Bar  0     197\n",
       "1    Bar  1     200"
      ]
     },
     "execution_count": 24,
     "metadata": {},
     "output_type": "execute_result"
    }
   ],
   "source": [
    "#go to bars more than once a month and are under the age of 30 \n",
    "aa = bardata.query(\"age == '21'\" or \"age == 'below21'\")\n",
    "\n",
    "#Eliminate all rows where the driver goes to bar less than once a month\n",
    "ac = aa.query(\"Bar != 'less1'\" or \"Bar != 'never'\")\n",
    "\n",
    "ad = ac[['coupon','Y']]\n",
    "ad = ad.groupby(['coupon','Y'])['Y'].count().reset_index(name='counts')\n",
    "\n",
    "ad"
   ]
  },
  {
   "cell_type": "code",
   "execution_count": 23,
   "metadata": {},
   "outputs": [
    {
     "data": {
      "text/html": [
       "<div>\n",
       "<style scoped>\n",
       "    .dataframe tbody tr th:only-of-type {\n",
       "        vertical-align: middle;\n",
       "    }\n",
       "\n",
       "    .dataframe tbody tr th {\n",
       "        vertical-align: top;\n",
       "    }\n",
       "\n",
       "    .dataframe thead th {\n",
       "        text-align: right;\n",
       "    }\n",
       "</style>\n",
       "<table border=\"1\" class=\"dataframe\">\n",
       "  <thead>\n",
       "    <tr style=\"text-align: right;\">\n",
       "      <th></th>\n",
       "      <th>coupon</th>\n",
       "      <th>Y</th>\n",
       "      <th>accepted</th>\n",
       "      <th>type</th>\n",
       "      <th>counts</th>\n",
       "    </tr>\n",
       "  </thead>\n",
       "  <tbody>\n",
       "    <tr>\n",
       "      <th>0</th>\n",
       "      <td>Bar</td>\n",
       "      <td>0</td>\n",
       "      <td>No</td>\n",
       "      <td>Not_Widowed</td>\n",
       "      <td>961</td>\n",
       "    </tr>\n",
       "    <tr>\n",
       "      <th>1</th>\n",
       "      <td>Bar</td>\n",
       "      <td>1</td>\n",
       "      <td>Yes</td>\n",
       "      <td>Not_Widowed</td>\n",
       "      <td>741</td>\n",
       "    </tr>\n",
       "  </tbody>\n",
       "</table>\n",
       "</div>"
      ],
      "text/plain": [
       "  coupon  Y accepted         type  counts\n",
       "0    Bar  0       No  Not_Widowed     961\n",
       "1    Bar  1      Yes  Not_Widowed     741"
      ]
     },
     "execution_count": 23,
     "metadata": {},
     "output_type": "execute_result"
    }
   ],
   "source": [
    "#Go to bars more than once a month, had passengers that were not a kid, and were not widowed\n",
    "a1 = bardata.query(\"maritalStatus != 'Widowed'\")\n",
    "a2 = a1.query(\"passanger != 'Kid(s)'\")\n",
    "\n",
    "#Eliminate all rows where the driver goes to bar less than once a month\n",
    "a3 = a2.query(\"Bar != 'less1'\" or \"Bar != 'never'\")\n",
    "\n",
    "a4 = a3[['coupon','Y']]\n",
    "a5 = a4.groupby(['coupon','Y'])['Y'].count().reset_index(name='counts')\n",
    "\n",
    "#Insert two new colums - accepted % & an accepted column that converts the 0/1 to No/Yes \n",
    "a5.insert(2, \"type\", ['Not_Widowed', 'Not_Widowed'], True)\n",
    "a5.insert(2, \"accepted\", ['No', 'Yes'], True)\n",
    "\n",
    "a5"
   ]
  },
  {
   "cell_type": "markdown",
   "metadata": {},
   "source": [
    "7.  Based on these observations, what do you hypothesize about drivers who accepted the bar coupons?"
   ]
  },
  {
   "cell_type": "code",
   "execution_count": 27,
   "metadata": {},
   "outputs": [
    {
     "data": {
      "text/html": [
       "<div>\n",
       "<style scoped>\n",
       "    .dataframe tbody tr th:only-of-type {\n",
       "        vertical-align: middle;\n",
       "    }\n",
       "\n",
       "    .dataframe tbody tr th {\n",
       "        vertical-align: top;\n",
       "    }\n",
       "\n",
       "    .dataframe thead th {\n",
       "        text-align: right;\n",
       "    }\n",
       "</style>\n",
       "<table border=\"1\" class=\"dataframe\">\n",
       "  <thead>\n",
       "    <tr style=\"text-align: right;\">\n",
       "      <th></th>\n",
       "      <th>coupon</th>\n",
       "      <th>Y</th>\n",
       "      <th>counts</th>\n",
       "    </tr>\n",
       "  </thead>\n",
       "  <tbody>\n",
       "    <tr>\n",
       "      <th>0</th>\n",
       "      <td>Bar</td>\n",
       "      <td>0</td>\n",
       "      <td>42</td>\n",
       "    </tr>\n",
       "    <tr>\n",
       "      <th>1</th>\n",
       "      <td>Bar</td>\n",
       "      <td>1</td>\n",
       "      <td>30</td>\n",
       "    </tr>\n",
       "  </tbody>\n",
       "</table>\n",
       "</div>"
      ],
      "text/plain": [
       "  coupon  Y  counts\n",
       "0    Bar  0      42\n",
       "1    Bar  1      30"
      ]
     },
     "execution_count": 27,
     "metadata": {},
     "output_type": "execute_result"
    }
   ],
   "source": [
    "#- go to cheap restaurants more than 4 times a month and income is less than 50K.\n",
    "\n",
    "b1 = bardata.query(\"income == '$12500 - $24999'\" or \"income == '$37500 - $49999'\" or \"income == '$25000 - $37499'\" or \"income =='Less than $12500'\")\n",
    "\n",
    "#query for only rows where the driver goes to cheap restaurants more than 4 times a month\n",
    "b2 = b1.query(\"RestaurantLessThan20 == '4~8'\" or \"RestaurantLessThan20 == 'gt8'\")\n",
    "\n",
    "b2 = b2[['coupon','Y']]\n",
    "b3 = b2.groupby(['coupon','Y'])['Y'].count().reset_index(name='counts')\n",
    "\n",
    "b3"
   ]
  },
  {
   "cell_type": "markdown",
   "metadata": {},
   "source": [
    "### Independent Investigation\n",
    "\n",
    "Using the bar coupon example as motivation, you are to explore one of the other coupon groups and try to determine the characteristics of passengers who accept the coupons.  "
   ]
  },
  {
   "cell_type": "code",
   "execution_count": 30,
   "metadata": {},
   "outputs": [
    {
     "data": {
      "image/png": "[encoded data removed]",
      "text/plain": [
       "<Figure size 1080x576 with 1 Axes>"
      ]
     },
     "metadata": {
      "needs_background": "light"
     },
     "output_type": "display_data"
    }
   ],
   "source": [
    "coffeeHouseData = data.query(\"coupon == 'Coffee House'\")\n",
    "#Identify the count of all rows where 'Y' == 1 (Coupon Accepted) and divide by the total count of rows\n",
    "percentCoffee_accepted = (coffeeHouseData.loc[coffeeHouseData['Y'] == 1]['Y'].count() / (coffeeHouseData['Y'].count())) * 100\n",
    "percentCoffee_notaccepted = 100-percentCoffee_accepted\n",
    "\n",
    "#Group the data by Y - Accepted(1)/Not Accepted(0)\n",
    "coffeeplotdata = coffeeHouseData.groupby(['Y']).agg({'Y': ['count']})\n",
    "coffeeplotdata.columns = ['count']\n",
    "coffeeplotdata = coffeeplotdata.reset_index()\n",
    "\n",
    "#Insert two new colums - accepted % & an accepted column that converts the 0/1 to No/Yes \n",
    "coffeeplotdata.insert(2, \"accepted %\", [percentCoffee_notaccepted, percentCoffee_accepted], True)\n",
    "coffeeplotdata.insert(2, \"accepted\", ['No', 'Yes'], True)\n",
    "\n",
    "# Plotting a bar plot to show the coupon accepted distribution for the bar coupons\n",
    "plt.figure(figsize=(15,8))\n",
    "sns.barplot(data=coffeeplotdata, x=\"accepted\", y='accepted %')\n",
    "plt.xlabel(\"Accepted\")\n",
    "plt.ylabel(\"Accepted Rate\")\n",
    "plt.title(\"Coupon Acceptance Distribution for Coffee House Coupons\")\n",
    "plt.savefig('images/coffeeCouponAcceptance.png')\n",
    "plt.show()\n",
    "\n"
   ]
  },
  {
   "cell_type": "code",
   "execution_count": null,
   "metadata": {},
   "outputs": [],
   "source": []
  },
  {
   "cell_type": "code",
   "execution_count": null,
   "metadata": {},
   "outputs": [],
   "source": []
  },
  {
   "cell_type": "code",
   "execution_count": null,
   "metadata": {},
   "outputs": [],
   "source": []
  },
  {
   "cell_type": "code",
   "execution_count": null,
   "metadata": {},
   "outputs": [],
   "source": []
  }
 ],
 "metadata": {
  "kernelspec": {
   "display_name": "Python 3 (ipykernel)",
   "language": "python",
   "name": "python3"
  },
  "language_info": {
   "codemirror_mode": {
    "name": "ipython",
    "version": 3
   },
   "file_extension": ".py",
   "mimetype": "text/x-python",
   "name": "python",
   "nbconvert_exporter": "python",
   "pygments_lexer": "ipython3",
   "version": "3.9.12"
  },
  "widgets": {
   "application/vnd.jupyter.widget-state+json": {
    "state": {},
    "version_major": 2,
    "version_minor": 0
   }
  }
 },
 "nbformat": 4,
 "nbformat_minor": 4
}
